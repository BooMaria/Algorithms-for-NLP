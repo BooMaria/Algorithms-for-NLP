{
  "cells": [
    {
      "cell_type": "markdown",
      "id": "fc1ccf2b",
      "metadata": {
        "id": "fc1ccf2b"
      },
      "source": [
        "# MD004 ENTREGA6 ANÁLISIS DE COMPONENTES PRINCIPALES\n",
        "\n",
        "**Descripción de la tarea:**\n",
        "\n",
        "El fichero 20230119_DatosBoston incluye datos de precios del mercado de viviendas de Boston (median_value), así como datos adicionales sobre la ubicación de la vivienda y otros datos sociodemográficos. La descripción de las columnas del dataset es la que sigue:\n",
        "\n",
        "- **crime_index**: Índice de criminalidad de la zona\n",
        "- **urban_ratio**: Ratio de zona urbana residencial sobre el total\n",
        "- **industry_ratio**: Ratio de industria de la zona\n",
        "- **c_river_variable**: 1 si la zona colinda con un río y 0 si no\n",
        "- **nox_concentration**: Concentración de óxido nitroso en la zona\n",
        "- **rooms_per_dwelling**: Número de habitaciones medio por vivienda\n",
        "- **dwelling_age**: “Edad” media de la vivienda\n",
        "- **dwelling_dist**: Distancia media ponderada con los centros urbanos de la ciudad\n",
        "- **highway_index**: Índice de accesibilidad sobre autopistas cercanas\n",
        "- **tax_ratio**: Índice de tasas por cada 10000usd\n",
        "- **teacher_ratio**: Ratio de alumno por profesor\n",
        "- **racial_index**: Índice de proporción de población no caucásica\n",
        "- **lower_status**: Porcentaje de población de “clase-baja”\n",
        "- **median_value**: Valor medio de precio de la vivienda (En 1000USD)\n",
        "\n",
        "**Se pide:**\n",
        "\n",
        "1. **Visualización y familiarización del dataset (2p)**: Se valorará el uso de las técnicas empleadas, así como la explicación de las visualizaciones / estadísticos utilizados en clases anteriores.\n",
        "2. **Análisis de correlación y de componentes principales (3p)**: Se valorará principalmente la interpretación de dichos análisis así como la “limpieza” de la presentación\n",
        "3. **Análisis de ANOVA (2p)**: Se valorará principalmente la interpretación del análisis, así como la limpieza de los datos\n",
        "4. **Desarrollo y justificación de las variables (1p)**: En base a las conclusiones sacadas en los puntos 1, 2, y 3 ¿Qué variables debemos utilizar en nuestro modelo de regresión lineal?\n",
        "5. **Estudio de regresión lineal del median_value (2p)**: ¿Qué resultados obtenemos en el modelo?,  ¿Predice correctamente?, ¿Utilizarías este modelo en la vida real?  \n",
        "\n",
        "<font color='red'> **Entrega: fichero Jupyter Notebook con MD004NombreApellidosAC06.ipynb y fichero .pdf con MD004NombreApellidosAC04.pdf** </font>"
      ]
    },
    {
      "cell_type": "code",
      "source": [
        "install.packages(\"ggplot2\")\n",
        "install.packages(\"dplyr\")\n",
        "install.packages(\"tidyverse\")\n",
        "install.packages(\"corrplot\")\n",
        "install.packages(c(\"ggplot2\", \"dplyr\"))\n",
        "install.packages(c(\"GGally\", \"gridExtra\"))\n",
        "install.packages(\"reshape2\")"
      ],
      "metadata": {
        "colab": {
          "base_uri": "https://localhost:8080/"
        },
        "id": "phuhbp03rcEO",
        "outputId": "96a64f40-3c62-4d84-8f77-33c887258e54"
      },
      "id": "phuhbp03rcEO",
      "execution_count": null,
      "outputs": [
        {
          "output_type": "stream",
          "name": "stderr",
          "text": [
            "Installing package into ‘/usr/local/lib/R/site-library’\n",
            "(as ‘lib’ is unspecified)\n",
            "\n",
            "Installing package into ‘/usr/local/lib/R/site-library’\n",
            "(as ‘lib’ is unspecified)\n",
            "\n",
            "Installing package into ‘/usr/local/lib/R/site-library’\n",
            "(as ‘lib’ is unspecified)\n",
            "\n",
            "Installing package into ‘/usr/local/lib/R/site-library’\n",
            "(as ‘lib’ is unspecified)\n",
            "\n",
            "Installing packages into ‘/usr/local/lib/R/site-library’\n",
            "(as ‘lib’ is unspecified)\n",
            "\n"
          ]
        }
      ]
    },
    {
      "cell_type": "code",
      "source": [
        "library(ggplot2)\n",
        "library(GGally)\n",
        "library(gridExtra)\n",
        "library(dplyr)\n",
        "library(corrplot)"
      ],
      "metadata": {
        "id": "SjroZNhRratG"
      },
      "id": "SjroZNhRratG",
      "execution_count": null,
      "outputs": []
    },
    {
      "cell_type": "code",
      "source": [
        "#install.packages(\"tidyverse\")\n",
        "install.packages('gridExtra')\n",
        "#install.packages('nortest')\n",
        "#install.packages ('GGally')\n",
        "#install.packages(\"olsrr\")\n",
        "library(tidyverse)\n",
        "library(dplyr)\n",
        "library(MASS)\n",
        "library(class)\n",
        "\n",
        "library(ggplot2)\n",
        "library(gridExtra)\n",
        "library(GGally)\n",
        "\n",
        "library(reshape2)\n",
        "\n"
      ],
      "metadata": {
        "id": "TaIkL6NqhzZa"
      },
      "id": "TaIkL6NqhzZa",
      "execution_count": null,
      "outputs": []
    },
    {
      "cell_type": "code",
      "source": [
        "data_boston <- read.csv(\"20230119_DatosBoston.csv\", header=TRUE, sep=';', dec='.')\n",
        "\n",
        "head(data_boston)\n",
        "summary(data_boston)"
      ],
      "metadata": {
        "id": "cqlhcOHNh0fJ"
      },
      "id": "cqlhcOHNh0fJ",
      "execution_count": null,
      "outputs": []
    },
    {
      "cell_type": "markdown",
      "source": [
        "## 1. Visualización y familiarización del dataset (2p):\n",
        "Se valorará el uso de las técnicas empleadas, así como la explicación de las visualizaciones / estadísticos utilizados en clases anteriores.\n"
      ],
      "metadata": {
        "id": "Z4Nd7cwAh4YU"
      },
      "id": "Z4Nd7cwAh4YU"
    },
    {
      "cell_type": "code",
      "source": [
        "dim(data_boston)"
      ],
      "metadata": {
        "id": "pRbK0kEjjRQ0"
      },
      "id": "pRbK0kEjjRQ0",
      "execution_count": null,
      "outputs": []
    },
    {
      "cell_type": "code",
      "source": [
        "str(data_boston)"
      ],
      "metadata": {
        "id": "ftjDA_bWiqTo"
      },
      "id": "ftjDA_bWiqTo",
      "execution_count": null,
      "outputs": []
    },
    {
      "cell_type": "code",
      "source": [
        "sum(is.na(data_boston))# Núm de NA #comprobar si existen valores nulls"
      ],
      "metadata": {
        "id": "KXne6ONiir6A"
      },
      "id": "KXne6ONiir6A",
      "execution_count": null,
      "outputs": []
    },
    {
      "cell_type": "markdown",
      "source": [
        "## Numeric variables"
      ],
      "metadata": {
        "id": "Ltyff3C8jWbq"
      },
      "id": "Ltyff3C8jWbq"
    },
    {
      "cell_type": "code",
      "source": [
        "data_boston_num = data_boston %>%\n",
        "  select_if(is.numeric)\n",
        "\n",
        "head(data_boston_num)"
      ],
      "metadata": {
        "id": "UGvAFCaBjXCJ"
      },
      "id": "UGvAFCaBjXCJ",
      "execution_count": null,
      "outputs": []
    },
    {
      "cell_type": "code",
      "source": [
        "summary(data_boston_num)"
      ],
      "metadata": {
        "id": "HqEnvzbdjk5p"
      },
      "id": "HqEnvzbdjk5p",
      "execution_count": null,
      "outputs": []
    },
    {
      "cell_type": "markdown",
      "source": [
        "Calculation of descriptive statistics"
      ],
      "metadata": {
        "id": "KeaQzwrNjsHR"
      },
      "id": "KeaQzwrNjsHR"
    },
    {
      "cell_type": "code",
      "source": [
        "\n",
        "# Gráficos de histograma\n",
        "graficos_histograma <- list()\n",
        "variables_numericas <- c(\"crime_index\", \"urban_ratio\", \"industry_ratio\", \"c_river_variable\",\n",
        "                         \"nox_concentration\", \"rooms_per_dwelling\", \"dwelling_age\",\n",
        "                         \"dwelling_dist\", \"highway_index\", \"tax_ratio\", \"teacher_ratio\",\n",
        "                         \"racial_index\", \"lower_status\", \"median_value\")\n",
        "var_data <- colnames(data_boston[, variables_numericas])\n",
        "\n",
        "for (variable in var_data) {\n",
        "  grafico <- ggplot(data_boston) +\n",
        "    aes_string(x = variable) +\n",
        "    geom_histogram(bins = 8, fill = '#e69138', color = 'white', na.rm = TRUE) +\n",
        "    theme(text = element_text(size = 15), axis.text.x = element_text(size = 14)) +\n",
        "    labs(title = paste('Hist', variable))\n",
        "\n",
        "  graficos_histograma[[length(graficos_histograma) + 1]] <- grafico\n",
        "}\n",
        "\n",
        "options(\n",
        "  repr.plot.width = 15,\n",
        "  repr.plot.height = 10\n",
        ")\n",
        "\n",
        "do.call('grid.arrange', c(graficos_histograma, ncol = 3))\n"
      ],
      "metadata": {
        "id": "03axNafhp-N7"
      },
      "id": "03axNafhp-N7",
      "execution_count": null,
      "outputs": []
    },
    {
      "cell_type": "code",
      "source": [
        "box_plots <- list()\n",
        "\n",
        "var_data <- colnames(data_boston[, variables_numericas])\n",
        "\n",
        "for (variable in var_data) {\n",
        "  box_plot <- ggplot(data_boston, aes(x = '', y = !!sym(variable))) +\n",
        "    stat_boxplot(geom = 'errorbar', color = '#3c0023', na.rm = TRUE) +\n",
        "    geom_boxplot(fill = '#e69138', color = '#3c0023', na.rm = TRUE) +\n",
        "    coord_flip() +\n",
        "    labs(title = paste('Boxplot', variable), y = variable) +\n",
        "    theme(panel.background = element_rect(fill = 'lightgray'),\n",
        "          panel.grid.major = element_line(color = 'white'),\n",
        "          panel.grid.minor = element_line(color = 'white')) +\n",
        "    theme(text = element_text(size = 12))\n",
        "  box_plots[[variable]] <- box_plot\n",
        "}\n",
        "\n",
        "options(\n",
        "  repr.plot.width = 15,\n",
        "  repr.plot.height = 10\n",
        ")\n",
        "grid.arrange(grobs = box_plots, ncol = 3, widths = rep(2, 3))"
      ],
      "metadata": {
        "id": "pUPdoiR8qhx5"
      },
      "id": "pUPdoiR8qhx5",
      "execution_count": null,
      "outputs": []
    },
    {
      "cell_type": "code",
      "source": [
        "options(repr.plot.width = 15,repr.plot.height = 8)\n",
        "qq_plots <- list()\n",
        "var_data <- colnames(data_boston[, variables_numericas])\n",
        "\n",
        "for (i in seq_along(var_data)) {\n",
        "  variable <- var_data[i]\n",
        "  qq_plot <- ggplot(data_boston[!is.na(data_boston[[variable]]), ],aes(sample = !!sym(variable))) +\n",
        "    stat_qq() +\n",
        "    stat_qq_line(color ='#e69138', lwd = 1) +\n",
        "    labs(title = paste('qqplot', variable),\n",
        "         x = 'Theoretical Quantiles',\n",
        "         y = 'Sample Quantiles') +\n",
        "    theme_classic() +\n",
        "    theme(text = element_text(size = 15))\n",
        "  qq_plots[[i]] <- qq_plot\n",
        "}\n",
        "\n",
        "grid.arrange(grobs = qq_plots, ncol = 4, widths = rep(2, 4))"
      ],
      "metadata": {
        "id": "2bBojbWnqxt9"
      },
      "id": "2bBojbWnqxt9",
      "execution_count": null,
      "outputs": []
    },
    {
      "cell_type": "code",
      "source": [
        "# Histograma del valor medio de precio de la vivienda\n",
        "ggplot(data_boston, aes(x = median_value)) +\n",
        "  geom_histogram(binwidth = 2, fill = \"skyblue\", color = \"black\") +\n",
        "  labs(title = \"Distribución del Valor Medio de Precio de la Vivienda\",\n",
        "       x = \"Valor Medio de Precio (en 1000 USD)\",\n",
        "       y = \"Frecuencia\")\n",
        "\n",
        "# Scatterplot de crimen vs. valor medio de precio\n",
        "ggplot(data_boston, aes(x = crime_index, y = median_value)) +\n",
        "  geom_point(color = \"darkred\") +\n",
        "  labs(title = \"Relación entre Índice de Criminalidad y Valor Medio de Precio\",\n",
        "       x = \"Índice de Criminalidad\",\n",
        "       y = \"Valor Medio de Precio (en 1000 USD)\")\n"
      ],
      "metadata": {
        "id": "c5LrLqaoh5CS"
      },
      "id": "c5LrLqaoh5CS",
      "execution_count": null,
      "outputs": []
    },
    {
      "cell_type": "markdown",
      "source": [
        "## 2. Análisis de correlación y de componentes principales (3p):\n",
        "Se valorará principalmente la interpretación de dichos análisis así como la “limpieza” de la presentación\n",
        "  "
      ],
      "metadata": {
        "id": "k5Cj1IXHh9G0"
      },
      "id": "k5Cj1IXHh9G0"
    },
    {
      "cell_type": "markdown",
      "source": [
        "Análisis de correlación"
      ],
      "metadata": {
        "id": "g3vN04Cqj_nC"
      },
      "id": "g3vN04Cqj_nC"
    },
    {
      "cell_type": "code",
      "source": [
        "# Seleccionar las variables numéricas para el análisis de correlación\n",
        "variables_numericas_all <- c(\"crime_index\", \"urban_ratio\", \"industry_ratio\", \"c_river_variable\",\n",
        "                         \"nox_concentration\", \"rooms_per_dwelling\", \"dwelling_age\",\n",
        "                         \"dwelling_dist\", \"highway_index\", \"tax_ratio\", \"teacher_ratio\",\n",
        "                         \"racial_index\", \"lower_status\", \"median_value\")\n",
        "\n",
        "variables_numericas <- c(\"crime_index\", \"urban_ratio\", \"industry_ratio\",\n",
        "                         \"nox_concentration\", \"rooms_per_dwelling\", \"dwelling_age\",\n",
        "                         \"dwelling_dist\", \"highway_index\", \"tax_ratio\", \"teacher_ratio\",\n",
        "                         \"racial_index\", \"lower_status\", \"median_value\")\n",
        "# Calcular la matriz de correlación\n",
        "cor_matrix_boston <- cor(data_boston[, variables_numericas])\n",
        "\n",
        "# Visualizar la matriz de correlación con corrplot\n",
        "corrplot::corrplot(cor_matrix_boston, method = \"circle\")\n"
      ],
      "metadata": {
        "id": "e79VGzpgo5M6"
      },
      "id": "e79VGzpgo5M6",
      "execution_count": null,
      "outputs": []
    },
    {
      "cell_type": "code",
      "source": [
        "cov_matrix <- cov(data_boston_num)\n",
        "cor_matrix <- cor(data_boston_num)\n",
        "\n",
        "cat(\"Matriz de Covarianzas:\\n\")\n",
        "#print(round(cov_matrix, 3))\n",
        "\n",
        "cat(\"\\nMatriz de Correlaciones:\\n\")\n",
        "#print(round(cor_matrix, 3))\n",
        "\n",
        "options(repr.plot.width = 15, repr.plot.height = 12)\n",
        "\n",
        "ggpairs(\n",
        "  data_boston_num,\n",
        "  title = \"Matrix with Correlation Coefficients\",\n",
        "  upper = list(continuous = wrap(\"cor\", size = 9, color ='#ad3232'))\n",
        ") +\n",
        "theme_bw() +\n",
        "theme(\n",
        "  text = element_text(size = 12),\n",
        "  axis.text = element_text(size = 10),\n",
        "  axis.title = element_text(size = 15)\n",
        ")\n"
      ],
      "metadata": {
        "id": "ONuPyEAUrCGX"
      },
      "id": "ONuPyEAUrCGX",
      "execution_count": null,
      "outputs": []
    },
    {
      "cell_type": "code",
      "source": [
        "# Visualización con ggpair#data_boston$c_river_variable,s\n",
        "data_boston_key <- data.frame(\n",
        "  data_boston$crime_index,\n",
        "  data_boston$urban_ratio,\n",
        "  data_boston$industry_ratio,\n",
        "\n",
        "  data_boston$nox_concentration,\n",
        "  data_boston$rooms_per_dwelling,\n",
        "  data_boston$dwelling_age,\n",
        "  data_boston$dwelling_dist,\n",
        "  data_boston$highway_index,\n",
        "  data_boston$tax_ratio,\n",
        "  data_boston$teacher_ratio,\n",
        "  data_boston$racial_index,\n",
        "  data_boston$lower_status,\n",
        "  data_boston$median_value\n",
        ")\n",
        "ggpairs(data_boston_key)"
      ],
      "metadata": {
        "id": "r7HtgmVsnP6A"
      },
      "id": "r7HtgmVsnP6A",
      "execution_count": null,
      "outputs": []
    },
    {
      "cell_type": "code",
      "source": [
        "# Calcular la matriz de correlación\n",
        "cor_matrix_boston <- cor(data_boston_key)\n",
        "\n",
        "# Obtener las 10 principales correlaciones\n",
        "top_correlations <- as.data.frame(as.table(cor_matrix_boston))\n",
        "\n",
        "top_correlations <- top_correlations[order(-abs(top_correlations$Freq)), ]\n",
        "\n",
        "# Seleccionar las 10 principales correlaciones\n",
        "top_correlations <- top_correlations[14:23, ]\n",
        "print(top_correlations)\n",
        "# Filtrar las variables correspondientes\n",
        "variables_top_correlations <- unique(c(top_correlations$Var1, top_correlations$Var2))\n",
        "data_boston_top_corr <- data_boston[, variables_top_correlations]\n",
        "\n",
        "# Visualización con ggpairs\n",
        "ggpairs(data_boston_top_corr)\n"
      ],
      "metadata": {
        "id": "KHzL5TFFu2Br"
      },
      "id": "KHzL5TFFu2Br",
      "execution_count": null,
      "outputs": []
    },
    {
      "cell_type": "code",
      "source": [
        "$ crime_index       : num  0.00632 0.02731 0.02729 0.03237 0.06905 ...\n",
        " $ urban_ratio       : num  18 0 0 0 0 0 12.5 12.5 12.5 12.5 ...\n",
        " $ industry_ratio    : num  2.31 7.07 7.07 2.18 2.18 2.18 7.87 7.87 7.87 7.87 ...\n",
        " $ c_river_variable  : int  0 0 0 0 0 0 0 0 0 0 ...\n",
        " $ nox_concentration : num  0.538 0.469 0.469 0.458 0.458 0.458 0.524 0.524 0.524 0.524 ...\n",
        " $ rooms_per_dwelling: num  6.58 6.42 7.18 7 7.15 ...\n",
        " $ dwelling_age      : num  65.2 78.9 61.1 45.8 54.2 58.7 66.6 96.1 100 85.9 ...\n",
        " $ dwelling_dist     : num  4.09 49.67 49.67 60.62 60.62 ...\n",
        " $ highway_index     : int  1 2 2 3 3 3 5 5 5 5 ...\n",
        " $ tax_ratio         : int  296 242 242 222 222 222 311 311 311 311 ...\n",
        " $ teacher_ratio     : num  15.3 17.8 17.8 18.7 18.7 18.7 15.2 15.2 15.2 15.2 ...\n",
        " $ racial_index      : num  397 397 393 395 397 ...\n",
        " $ lower_status      : num  4.98 9.14 4.03 2.94 5.33 ...\n",
        " $ median_value      : num  24 21.6 34.7 33.4 36.2 28.7 22.9 27.1 16.5 18.9 ..."
      ],
      "metadata": {
        "id": "JMpXpFyln2Gg"
      },
      "id": "JMpXpFyln2Gg",
      "execution_count": null,
      "outputs": []
    },
    {
      "cell_type": "code",
      "source": [
        "data_macro_key = data.frame(data_macro$Morosidad_prct\n",
        "                            ,data_macro$PIB\n",
        "                            ,data_macro$TasaParo_prct#<<\n",
        "                            ,data_macro$IPC#<<\n",
        "                            ,data_macro$Precio_avg_m2viviendas#<<\n",
        "                            ,data_macro$Precio_vivienda_x_Rentabrutahogar#<<\n",
        "                            ,data_macro$Tipo_cambio_EUR_USD\n",
        "                            ,data_macro$Renta_dispo_hogares_mm)\n",
        "\n",
        "ggpairs(data_macro_key)\n",
        "\n",
        "cor(data_macro_key)\n",
        "### Análisis de correlación\n",
        "corrplot::corrplot(cor(data_macro_key)\n",
        "                   , type = \"upper\" #para que solo muestre de la diagonal hacia arriba (la otra mitad es igual)\n",
        "                   , number.cex = .6\n",
        "                   , tl.col = \"black\"\n",
        "                   , tl.srt = 90)\n",
        "\n",
        "#PIB\n",
        "a = ggplot(data_macro) +\n",
        "  aes(x = PIB,y = Morosidad_prct,color = Morosidad_prct) +\n",
        "   geom_point(size = 5,show.legend = FALSE) +\n",
        "   scale_color_gradient(low = \"#d94c9f\", high = \"#8c0052\") +\n",
        "   labs(title = \"Boxplot Morosidad_prct x PIB \" )\n",
        "#TasaParo_prct\n",
        "b = ggplot(data_macro) +\n",
        "  aes(x = TasaParo_prct,y = Morosidad_prct,color = Morosidad_prct) +\n",
        "   geom_point(size = 5,show.legend = FALSE) +\n",
        "   scale_color_gradient(low = \"#d94c9f\", high = \"#8c0052\") +\n",
        "   labs(title = \"Boxplot Morosidad_prct x TasaParo_prct \" )\n",
        "#IPC\n",
        "c = ggplot(data_macro) +\n",
        "  aes(x = IPC ,y = Morosidad_prct,color = Morosidad_prct) +\n",
        "   geom_point(size = 5 ,show.legend = FALSE) +\n",
        "   scale_color_gradient(low = \"#d94c9f\", high = \"#8c0052\") +\n",
        "   labs(title = \"Boxplot Morosidad_prct x IPC \" )\n",
        "#Precio_avg_m2viviendas\n",
        "d = ggplot(data_macro) +\n",
        "  aes(x = Precio_avg_m2viviendas,y = Morosidad_prct,color = Morosidad_prct) +\n",
        "   geom_point(size = 5,show.legend = FALSE) +\n",
        "   scale_color_gradient(low = \"#d94c9f\", high = \"#8c0052\") +\n",
        "   labs(title = \"Boxplot Morosidad_prct x Precio_avg_m2viviendas \" )\n",
        "#Tipo_cambio_EUR_USD\n",
        "e = ggplot(data_macro) +\n",
        "  aes(x = Tipo_cambio_EUR_USD ,y = Morosidad_prct ,color = Morosidad_prct) +\n",
        "   geom_point(size = 5,show.legend = FALSE) +\n",
        "   scale_color_gradient(low = \"#d94c9f\", high = \"#8c0052\") +\n",
        "   labs(title = \"Boxplot Morosidad_prct x Tipo_cambio_EUR_USD \" )\n",
        "#Renta_dispo_hogares_mm\n",
        "f = ggplot(data_macro) +\n",
        "  aes(x = Renta_dispo_hogares_mm,y = Morosidad_prct,color = Morosidad_prct) +\n",
        "   geom_point(size = 5,show.legend = FALSE) +\n",
        "   scale_color_gradient(low = \"#d94c9f\", high = \"#8c0052\") +\n",
        "   labs(title = \"Boxplot Morosidad_prct x Renta_dispo_hogares_mm \" )\n",
        "grid.arrange(a,b,c,d,e,f)"
      ],
      "metadata": {
        "id": "KvZKsFqPkBm8"
      },
      "id": "KvZKsFqPkBm8",
      "execution_count": null,
      "outputs": []
    },
    {
      "cell_type": "code",
      "source": [
        "### Análisis de correlación\n",
        "corrplot::corrplot(cor(data_macro_key)\n",
        "                   , type = \"upper\" #para que solo muestre de la diagonal hacia arriba (la otra mitad es igual)\n",
        "                   , number.cex = .6\n",
        "                   , tl.col = \"black\"\n",
        "                   , tl.srt = 90)# Calcular matriz de correlación\n",
        "cor_matrix <- cor(data_boston)\n",
        "\n",
        "# Mostrar matriz de correlación\n",
        "print(cor_matrix)\n",
        "\n",
        "# Gráfico de mapa de calor de la matriz de correlación\n",
        "library(reshape2)\n",
        "library(ggplot2)\n",
        "\n",
        "ggplot(data = melt(cor_matrix), aes(x = Var1, y = Var2, fill = value)) +\n",
        "  geom_tile(color = \"white\") +\n",
        "  scale_fill_gradient2(low = \"blue\", high = \"red\", mid = \"white\", midpoint = 0) +\n",
        "  theme_minimal() +\n",
        "  labs(title = \"Matriz de Correlación entre Variables\")\n"
      ],
      "metadata": {
        "id": "_xWU67YOiGh5"
      },
      "id": "_xWU67YOiGh5",
      "execution_count": null,
      "outputs": []
    },
    {
      "cell_type": "code",
      "source": [
        "# Cargar biblioteca para PCA\n",
        "library(FactoMineR)\n",
        "\n",
        "# Seleccionar solo las variables numéricas para el PCA\n",
        "datos_pca <- data_boston[, -c(4)]  # Excluir la variable c_river_variable que es categórica\n",
        "\n",
        "# Estandarizar las variables para tener media 0 y desviación estándar 1\n",
        "datos_pca_standardized <- scale(datos_pca)\n",
        "\n",
        "# Realizar el análisis de componentes principales (PCA)\n",
        "resultados_pca <- PCA(datos_pca_standardized, graph = FALSE)\n",
        "\n",
        "# Resumen de los resultados del PCA\n",
        "summary(resultados_pca)\n",
        "\n",
        "# Gráfico de varianza explicada por cada componente principal\n",
        "fviz_eig(resultados_pca, addlabels = TRUE, title = \"Varianza Explicada por Componente Principal\")\n",
        "\n",
        "# Gráfico de individuos en el espacio de las dos primeras componentes principales\n",
        "fviz_pca_ind(resultados_pca, habillage = datos_boston$c_river_variable, title = \"PCA: Individuos\")\n",
        "\n",
        "# Gráfico de variables en el espacio de las dos primeras componentes principales\n",
        "fviz_pca_var(resultados_pca, col.var = \"contrib\", gradient.cols = c(\"blue\", \"red\"), title = \"PCA: Variables\")\n"
      ],
      "metadata": {
        "id": "h3d7eN1oiH6I"
      },
      "id": "h3d7eN1oiH6I",
      "execution_count": null,
      "outputs": []
    },
    {
      "cell_type": "markdown",
      "source": [
        "## 3. Análisis de ANOVA (2p):\n",
        "Se valorará principalmente la interpretación del análisis, así como la limpieza de los datos\n"
      ],
      "metadata": {
        "id": "bHQzNRzZh-YT"
      },
      "id": "bHQzNRzZh-YT"
    },
    {
      "cell_type": "markdown",
      "source": [
        "## 4. Desarrollo y justificación de las variables (1p):\n",
        " En base a las conclusiones sacadas en los puntos 1, 2, y 3 ¿Qué variables debemos utilizar en nuestro modelo de regresión lineal?\n"
      ],
      "metadata": {
        "id": "vAWJ3nevh_np"
      },
      "id": "vAWJ3nevh_np"
    },
    {
      "cell_type": "markdown",
      "source": [
        "## 5. Estudio de regresión lineal del median_value (2p):\n",
        "¿Qué resultados obtenemos en el modelo?,  ¿Predice correctamente?, ¿Utilizarías este modelo en la vida real?"
      ],
      "metadata": {
        "id": "KV2Ih1BWiBGI"
      },
      "id": "KV2Ih1BWiBGI"
    }
  ],
  "metadata": {
    "kernelspec": {
      "display_name": "R",
      "language": "R",
      "name": "ir"
    },
    "language_info": {
      "codemirror_mode": "r",
      "file_extension": ".r",
      "mimetype": "text/x-r-source",
      "name": "R",
      "pygments_lexer": "r",
      "version": "4.1.1"
    },
    "colab": {
      "provenance": [],
      "toc_visible": true
    }
  },
  "nbformat": 4,
  "nbformat_minor": 5
}