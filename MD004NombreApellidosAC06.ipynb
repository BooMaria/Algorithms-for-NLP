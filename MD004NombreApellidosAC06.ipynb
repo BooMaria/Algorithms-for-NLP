{
 "cells": [
  {
   "cell_type": "markdown",
   "id": "fc1ccf2b",
   "metadata": {},
   "source": [
    "# MD004 ENTREGA6 ANÁLISIS DE COMPONENTES PRINCIPALES\n",
    "\n",
    "**Descripción de la tarea:**\n",
    "\n",
    "El fichero 20230119_DatosBoston incluye datos de precios del mercado de viviendas de Boston (median_value), así como datos adicionales sobre la ubicación de la vivienda y otros datos sociodemográficos. La descripción de las columnas del dataset es la que sigue:\n",
    "\n",
    "- **crime_index**: Índice de criminalidad de la zona\n",
    "- **urban_ratio**: Ratio de zona urbana residencial sobre el total\n",
    "- **industry_ratio**: Ratio de industria de la zona\n",
    "- **c_river_variable**: 1 si la zona colinda con un río y 0 si no\n",
    "- **nox_concentration**: Concentración de óxido nitroso en la zona\n",
    "- **rooms_per_dwelling**: Número de habitaciones medio por vivienda\n",
    "- **dwelling_age**: “Edad” media de la vivienda\n",
    "- **dwelling_dist**: Distancia media ponderada con los centros urbanos de la ciudad\n",
    "- **highway_index**: Índice de accesibilidad sobre autopistas cercanas\n",
    "- **tax_ratio**: Índice de tasas por cada 10000usd\n",
    "- **teacher_ratio**: Ratio de alumno por profesor\n",
    "- **racial_index**: Índice de proporción de población no caucásica\n",
    "- **lower_status**: Porcentaje de población de “clase-baja”\n",
    "- **median_value**: Valor medio de precio de la vivienda (En 1000USD)\n",
    "\n",
    "**Se pide:**\n",
    "\n",
    "1. **Visualización y familiarización del dataset (2p)**: Se valorará el uso de las técnicas empleadas, así como la explicación de las visualizaciones / estadísticos utilizados en clases anteriores.\n",
    "2. **Análisis de correlación y de componentes principales (3p)**: Se valorará principalmente la interpretación de dichos análisis así como la “limpieza” de la presentación\n",
    "3. **Análisis de ANOVA (2p)**: Se valorará principalmente la interpretación del análisis, así como la limpieza de los datos\n",
    "4. **Desarrollo y justificación de las variables (1p)**: En base a las conclusiones sacadas en los puntos 1, 2, y 3 ¿Qué variables debemos utilizar en nuestro modelo de regresión lineal?\n",
    "5. **Estudio de regresión lineal del median_value (2p)**: ¿Qué resultados obtenemos en el modelo?,  ¿Predice correctamente?, ¿Utilizarías este modelo en la vida real?  \n",
    "\n",
    "<font color='red'> **Entrega: fichero Jupyter Notebook con MD004NombreApellidosAC06.ipynb y fichero .pdf con MD004NombreApellidosAC04.pdf** </font>"
   ]
  }
 ],
 "metadata": {
  "kernelspec": {
   "display_name": "R",
   "language": "R",
   "name": "ir"
  },
  "language_info": {
   "codemirror_mode": "r",
   "file_extension": ".r",
   "mimetype": "text/x-r-source",
   "name": "R",
   "pygments_lexer": "r",
   "version": "4.1.1"
  }
 },
 "nbformat": 4,
 "nbformat_minor": 5
}
